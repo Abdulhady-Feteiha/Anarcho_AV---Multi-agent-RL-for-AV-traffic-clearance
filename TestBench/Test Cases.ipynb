{
 "cells": [
  {
   "cell_type": "code",
   "execution_count": 1,
   "metadata": {},
   "outputs": [
    {
     "data": {
      "text/plain": [
       "\"\\nCases we want to test:\\n\\n\\n# 1 instantaneity: \\ndoes setspeed change the velocity instantaneously?\\nwhen we setspeed, is the velocity of the direct next taken as the input velocity? What exactly happens?\\nSample Test: ---- Car A ----- (NO OTHER CARS)\\n    Give Car A velociy, record step number at which the velocity was given, detect the velocity\\n    taken in each subsequen step and see when the velocity reaches our desired velocity.\\n\\n# 2 setspeed: \\nwhen given certain speed that is infeasible.. will sumo just disregard our commands OR\\nreach the closest speed it could to the required velocity ?\\nSample Test: Car A ---- Car B ----\\n    velocity of B is 10 m/s. velocity of A starts at 3 m/s and is then set to 20 m/s.. does the\\n    car A reach velocity 10 ? or is the car going to maintain its old 3 m/s? \\n    Hopefully it will reach 10 m/s. This is the logic we need in our ambulance.\\n\\n\\n# 3 safe distance:\\nhow is the safe distance calculated? using MinGap ? Do we want to make it zero?\\n* Sample Test (Several Trials): ---- Car A ----- Car B --- \\n    Car A moves at velocity = 10 m/s (test_amb_vel),  \\n        Car B is inserted at distance = 10 m (car_B_dist) infront of the ambulance, with velocity equal to 2 (car_B_vel)\\n    the trial is repeated for different Car A (Ambulance) velocities (10,8,6,4,2)\\n    the trial is repeated for different Car B start positions: test_amb_vel*1, test_amb_vel*1.5, test_amb_vel*2\\n    the trial is repeated for different Car B velocitiies: (0, 0.5*test_amb_vel, 2*test_amb_vel)\\n    \\nIf any insertion approach is followed, check out:\\nhttps://sumo.dlr.de/docs/Simulation/VehicleInsertion.html\\n\\nMust know how car follower model works. (ctrl+f carfollow)\\nStart Link: https://sumo.dlr.de/docs/Definition_of_Vehicles,_Vehicle_Types,_and_Routes.html\\n\\n\\n# 4 window: \\n* how to control the size of the window seen by the ambulance ? I.e. what factors judge the minimum\\ndistance after which the ambulance will start to change velocity \\n*Read about MinGap and car follower model. (ctrl+f carfollow)\\nStart Link:https://sumo.dlr.de/docs/Definition_of_Vehicles,_Vehicle_Types,_and_Routes.html\\n*Sample Test (Several Tests): Car A ----- Car B\\n    Given Car A moves at 10 m/s (test_amb_vel), insert Car B at distance= 5 m (car_B_dist) with velocity = 5 m/sec (car_B_vel).\\n        If any delay occurs in insertion, this means that this distance is within the ambulance's window. Try for different\\n         * test_amb_vel: (10,5)\\n         * car_B_vel: (5,50)\\n         * car_B_dist: (2,5,10,15,20,30,40,50,60,70,80,90)\\n    \\n    \\n\\n# 5 reward:  \\n* when to reward the agent..\\nnow, since we do not apply acceleration to the ambulance, but rather wait for it to accelerate..\\n    we have a latency in our observation.. is this latency of one step? two steps? when do we notice\\n    the result of an acceleration action taken by a vehicle ?\\n* we must apply the reward when the action's corresponding observation is seen\\n* What we want to measure here is not the window size, but rather: given that we know the ambulance\\n    MUST repond (i.e. the agent is well within the window size to affect the ambulance).. when is the\\n    ambulance change of acceleration detected ?\\n* Sample Test: --- Car A --- Car B --- \\n    Car A and Car B should first be close, after then, Car B wil stop suddenly and we will check when\\n    (after how many steps from the stop of Car B) can we detect the change in velocity of car A?\\n    \\n    Getting the  cars close: cars start at distance = x m, with both their velocities being x m/s\\n\\n\\n# 6 longitudinal feasbility:\\nHow to check feasibility for increasing/decreasing speed? \\nWe want to make sure that our feasbility check is (if not like SUMO's) at least safer than SUMO's\\ncheck, to avoid giving the agent \\n* Sample Test: To be determined after 1 to 5 are made.\\n\\n\""
      ]
     },
     "execution_count": 1,
     "metadata": {},
     "output_type": "execute_result"
    }
   ],
   "source": [
    "'''\n",
    "Cases we want to test: (Progress: 1/6)\n",
    "\n",
    "\n",
    "# 1 instantaneity:  (DONE)\n",
    "does setspeed change the velocity instantaneously?\n",
    "when we setspeed, is the velocity of the direct next taken as the input velocity? What exactly happens?\n",
    "Sample Test: ---- Car A ----- (NO OTHER CARS)\n",
    "    Give Car A velociy, record step number at which the velocity was given, detect the velocity\n",
    "    taken in each subsequent step and see when the velocity reaches our desired velocity.\n",
    "\n",
    "# 2 setspeed: \n",
    "when given certain speed that is infeasible.. will sumo just disregard our commands OR\n",
    "reach the closest speed it could to the required velocity ?\n",
    "Sample Test: Car A ---- Car B ----\n",
    "    velocity of B is 10 m/s. velocity of A starts at 3 m/s and is then set to 20 m/s.. does the\n",
    "    car A reach velocity 10 ? or is the car going to maintain its old 3 m/s? \n",
    "    Hopefully it will reach 10 m/s. This is the logic we need in our ambulance.\n",
    "\n",
    "\n",
    "# 3 safe distance:\n",
    "how is the safe distance calculated? using MinGap ? Do we want to make it zero?\n",
    "* Sample Test (Several Trials): ---- Car A ----- Car B --- \n",
    "    Car A moves at velocity = 10 m/s (test_amb_vel),  \n",
    "        Car B is inserted at distance = 10 m (car_B_dist) infront of the ambulance, with velocity equal to 2 (car_B_vel)\n",
    "    the trial is repeated for different Car A (Ambulance) velocities (10,8,6,4,2)\n",
    "    the trial is repeated for different Car B start positions: test_amb_vel*1, test_amb_vel*1.5, test_amb_vel*2\n",
    "    the trial is repeated for different Car B velocitiies: (0, 0.5*test_amb_vel, 2*test_amb_vel)\n",
    "    \n",
    "If any insertion approach is followed, check out:\n",
    "https://sumo.dlr.de/docs/Simulation/VehicleInsertion.html\n",
    "\n",
    "Must know how car follower model works. (ctrl+f carfollow)\n",
    "Start Link: https://sumo.dlr.de/docs/Definition_of_Vehicles,_Vehicle_Types,_and_Routes.html\n",
    "\n",
    "\n",
    "# 4 window: \n",
    "* how to control the size of the window seen by the ambulance ? I.e. what factors judge the minimum\n",
    "distance after which the ambulance will start to change velocity \n",
    "*Read about MinGap and car follower model. (ctrl+f carfollow)\n",
    "Start Link:https://sumo.dlr.de/docs/Definition_of_Vehicles,_Vehicle_Types,_and_Routes.html\n",
    "*Sample Test (Several Tests): Car A ----- Car B\n",
    "    Given Car A moves at 10 m/s (test_amb_vel), insert Car B at distance= 5 m (car_B_dist) with velocity = 5 m/sec (car_B_vel).\n",
    "        If any delay occurs in insertion, this means that this distance is within the ambulance's window. Try for different\n",
    "         * test_amb_vel: (10,5)\n",
    "         * car_B_vel: (5,50)\n",
    "         * car_B_dist: (2,5,10,15,20,30,40,50,60,70,80,90)\n",
    "    \n",
    "\n",
    "# 5 reward:  \n",
    "* when to reward the agent..\n",
    "now, since we do not apply acceleration to the ambulance, but rather wait for it to accelerate..\n",
    "    we have a latency in our observation.. is this latency of one step? two steps? when do we notice\n",
    "    the result of an acceleration action taken by a vehicle ?\n",
    "* we must apply the reward when the action's corresponding observation is seen\n",
    "* What we want to measure here is not the window size, but rather: given that we know the ambulance\n",
    "    MUST repond (i.e. the agent is well within the window size to affect the ambulance).. when is the\n",
    "    ambulance change of acceleration detected ?\n",
    "* Sample Test: --- Car A --- Car B --- \n",
    "    Car A and Car B should first be close, after then, Car B wil stop suddenly and we will check when\n",
    "    (after how many steps from the stop of Car B) can we detect the change in velocity of car A?\n",
    "    \n",
    "    Getting the  cars close: cars start at distance = x m, with both their velocities being x m/s\n",
    "\n",
    "\n",
    "# 6 longitudinal feasbility:\n",
    "How to check feasibility for increasing/decreasing speed? \n",
    "We want to make sure that our feasbility check is (if not like SUMO's) at least safer than SUMO's\n",
    "check, to avoid giving the agent \n",
    "* Sample Test: To be determined after 1 to 5 are made.\n",
    "\n",
    "'''"
   ]
  },
  {
   "cell_type": "markdown",
   "metadata": {},
   "source": [
    "# 1 instantaneity: \n",
    "does setspeed change the velocity instantaneously? <br>\n",
    "when we setspeed, is the velocity of the direct next taken as the input velocity? What exactly happens?<br>\n",
    "Sample Test: ---- Car A ----- (NO OTHER CARS)<br>\n",
    "&emsp; Give Car A velociy, record step number at which the velocity was given, detect the velocity<br>\n",
    "&emsp; taken in each subsequent step and see when the velocity reaches our desired velocity.<br>"
   ]
  },
  {
   "cell_type": "code",
   "execution_count": 3,
   "metadata": {},
   "outputs": [
    {
     "data": {
      "text/plain": [
       "'\\nSet speed sets the speed to travel the upcoming step, instantaneously, on the condition that:\\n* If speed is negative, it is ignored, and maximum acceleration is applied by default. So:\\n    ** if velocity = 0.0, acc = -2, setspeed(-2): speed will be 0+max_acceleration over next step. \\n        Which is wrong. Therefore min(0,speed+acc)\\n        should be applied.\\n        Expression was: min(int(self.spd  + acc), int(self.max_speed)) --> So as to not surpass max velocity\\n        Now it sould be:  max( 0.0 , min(int(self.spd  + acc), int(self.max_speed))) --> So as to not request negative velocity and \\n                                                                                         have the request ignored.\\n                                                                                         \\n* No need to account for surpassing maximum velocity, SUMO already handles it.\\n* Maximum default negative acceleration is 4.5 ? Not sure\\n* Maximum default positive acceleration is 2.6 \\n\\n*Conclusion: To have acceleration within range, set accel and decel within the XML files and format input to set Speed as follows:\\n    ** Input to set speed:  max( 0.0 , int(self.spd  + acc))\\n    ** XML: (Note the added accel and decel, decel = \"1\" means that maximum breaking is done at -1 m/s^2)\\n    <vType id=\"Ego\" length=\"2.0\" maxSpeed=\"10.0\" sigma=\"0.0\" color=\\'0,0,1\\' accel=\"1\" decel=\"1\" />\\n\\n'"
      ]
     },
     "execution_count": 3,
     "metadata": {},
     "output_type": "execute_result"
    }
   ],
   "source": [
    "'''\n",
    "Set speed sets the speed to travel the upcoming step, instantaneously, on the condition that:\n",
    "* If speed is negative, it is ignored, and maximum acceleration is applied by default. So:\n",
    "    ** if velocity = 0.0, acc = -2, setspeed(-2): speed will be 0+max_acceleration over next step. \n",
    "        Which is wrong. Therefore max(0,speed+acc)\n",
    "        should be applied.\n",
    "        Expression was: min(int(self.spd  + acc), int(self.max_speed)) --> So as to not surpass max velocity\n",
    "        Now it sould be:  max( 0.0 , min(int(self.spd  + acc), int(self.max_speed))) --> So as to not request negative velocity and \n",
    "                                                                                         have the request ignored.\n",
    "                                                                                         \n",
    "* No need to account for surpassing maximum velocity, SUMO already handles it.\n",
    "* Maximum default negative acceleration is 4.5 ? Not sure\n",
    "* Maximum default positive acceleration is 2.6 \n",
    "\n",
    "*Conclusion: To have acceleration within range, set accel and decel within the XML files and format input to set Speed as follows:\n",
    "    ** Input to set speed:  max( 0.0 , int(self.spd  + acc))\n",
    "    ** XML: (Note the added accel and decel, decel = \"1\" means that maximum breaking is done at -1 m/s^2)\n",
    "    <vType id=\"Ego\" length=\"2.0\" maxSpeed=\"10.0\" sigma=\"0.0\" color='0,0,1' accel=\"1\" decel=\"1\" />\n",
    "\n",
    "'''"
   ]
  },
  {
   "cell_type": "code",
   "execution_count": null,
   "metadata": {},
   "outputs": [],
   "source": []
  }
 ],
 "metadata": {
  "kernelspec": {
   "display_name": "Python 3",
   "language": "python",
   "name": "python3"
  },
  "language_info": {
   "codemirror_mode": {
    "name": "ipython",
    "version": 3
   },
   "file_extension": ".py",
   "mimetype": "text/x-python",
   "name": "python",
   "nbconvert_exporter": "python",
   "pygments_lexer": "ipython3",
   "version": "3.7.3"
  }
 },
 "nbformat": 4,
 "nbformat_minor": 2
}
