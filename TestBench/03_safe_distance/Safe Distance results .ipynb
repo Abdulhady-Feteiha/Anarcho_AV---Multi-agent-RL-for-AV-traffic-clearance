{
 "cells": [
  {
   "cell_type": "markdown",
   "metadata": {},
   "source": [
    "## The main result is that safe distance equals Rear car min Gap + leading car length + leading car speed "
   ]
  },
  {
   "cell_type": "markdown",
   "metadata": {},
   "source": [
    "## Other hints :\n",
    "\n",
    "* EVERY Vehicle type is associated with minGap parameter , if not specified then the default value will be used which is 2.5. It is defined inside vType tag not inside vehicle tag \n"
   ]
  },
  {
   "cell_type": "code",
   "execution_count": 1,
   "metadata": {
    "collapsed": true
   },
   "outputs": [
    {
     "ename": "SyntaxError",
     "evalue": "invalid syntax (<ipython-input-1-bec1fc0e9973>, line 1)",
     "output_type": "error",
     "traceback": [
      "\u001b[1;36m  File \u001b[1;32m\"<ipython-input-1-bec1fc0e9973>\"\u001b[1;36m, line \u001b[1;32m1\u001b[0m\n\u001b[1;33m    \"<vType id=\"Emergency\" length=\"3.0\" maxSpeed=\"10.0\" sigma=\"0.0\" color='1,0,0' depart= \"0.0\" minGap=\"8\" />\"\u001b[0m\n\u001b[1;37m                        ^\u001b[0m\n\u001b[1;31mSyntaxError\u001b[0m\u001b[1;31m:\u001b[0m invalid syntax\n"
     ]
    }
   ],
   "source": [
    "\"<vType id=\"Emergency\" length=\"3.0\" maxSpeed=\"10.0\" sigma=\"0.0\" color='1,0,0' depart= \"0.0\" minGap=\"8\" />\""
   ]
  },
  {
   "attachments": {},
   "cell_type": "markdown",
   "metadata": {},
   "source": [
    "* Which vehicle is a head of the other is controlled by departPos parameter .However when the minimum gap of a certain vehicle + its length(prior_D) is greater than the other one gap and length and it is written before it in the xml file then it will be ahead of it regardless of its departPos value  ."
   ]
  },
  {
   "cell_type": "markdown",
   "metadata": {},
   "source": [
    "* To ensure a certain car  is a head of the other , write its vehicle type before the other . "
   ]
  },
  {
   "cell_type": "code",
   "execution_count": null,
   "metadata": {},
   "outputs": [],
   "source": []
  }
 ],
 "metadata": {
  "kernelspec": {
   "display_name": "Python 3",
   "language": "python",
   "name": "python3"
  },
  "language_info": {
   "codemirror_mode": {
    "name": "ipython",
    "version": 3
   },
   "file_extension": ".py",
   "mimetype": "text/x-python",
   "name": "python",
   "nbconvert_exporter": "python",
   "pygments_lexer": "ipython3",
   "version": "3.7.1"
  }
 },
 "nbformat": 4,
 "nbformat_minor": 2
}
